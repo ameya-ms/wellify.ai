{
 "cells": [
  {
   "cell_type": "code",
   "execution_count": 35,
   "id": "67a37b17",
   "metadata": {},
   "outputs": [],
   "source": [
    "import numpy as np\n",
    "import pandas as pd\n",
    "import random"
   ]
  },
  {
   "cell_type": "code",
   "execution_count": 36,
   "id": "ae37148c",
   "metadata": {},
   "outputs": [],
   "source": [
    "# Number of patient records\n",
    "N = 500\n",
    "\n",
    "# Random seed for reproducibility\n",
    "np.random.seed(42)\n",
    "random.seed(42)"
   ]
  },
  {
   "cell_type": "code",
   "execution_count": 40,
   "id": "70305dcf",
   "metadata": {},
   "outputs": [],
   "source": [
    "# Patient demographic features\n",
    "ages = np.random.randint(18, 65, N)  # college to working-age adults\n",
    "genders = np.random.choice([0, 1], N)  # 0=female, 1=male\n",
    "\n",
    "# Symptom categories\n",
    "symptoms = np.random.choice(\n",
    "    [\"fever\", \"cardiac\", \"sore throat\", \"headache\", \"nausea\", \"vomiting\", \"diarrhea\", \"sprain\", \"cut/laceration\", \"burn\", \"suspected fracture\", \"rash\", \"anxiety\", \"depression\", \"stress\", \"chest pain\", \"difficulty breathing\", \"allergic reaction\"],\n",
    "    N,\n",
    "    p=[0.065, 0.055, 0.055, 0.055, 0.055, 0.055, 0.055, 0.055, 0.055, 0.055, 0.055, 0.055, 0.055, 0.055, 0.055, 0.055, 0.055, 0.055]  # probabilities for diversity\n",
    ")\n",
    "\n",
    "# Urgency (1–5)\n",
    "urgency = np.random.randint(1, 6, N)\n",
    "\n",
    "# Time of day (0=morning, 1=afternoon, 2=night)\n",
    "time_of_day = np.random.choice([0, 1, 2], N, p=[0.4, 0.4, 0.2])\n",
    "\n",
    "# Center loads (current number of patients)\n",
    "wait_load_A = np.random.randint(5, 25, N)\n",
    "wait_load_B = np.random.randint(5, 25, N)\n",
    "wait_load_C = np.random.randint(5, 25, N)\n"
   ]
  },
  {
   "cell_type": "code",
   "execution_count": 41,
   "id": "cf51dbc1",
   "metadata": {},
   "outputs": [],
   "source": [
    "def match_specialty(symptom, center):\n",
    "    mapping = {\n",
    "        \"fever\": [\"A\"], \"cough\": ['B'], \"sore throat\": [\"C\"],\n",
    "        \"headache\": [\"A\"], \"nausea\": [\"B\"], \"vomiting\": [\"C\"],\n",
    "        \"diarrhea\": [\"A\"], \"sprain\": [\"B\"], \"cut/laceration\": [\"C\"],\n",
    "        \"burn\": [\"A\"], \"suspected fracture\": [\"B\"], \"rash\": [\"C\"],\n",
    "        \"anxiety\": [\"A\"], \"depression\": [\"B\"], \"stress\": [\"C\"],\n",
    "        \"chest pain\": [\"A\"], \"difficulty breathing\": [\"B\"],\n",
    "        \"allergic reaction\": [\"C\"]\n",
    "    }\n",
    "    return 1 if center in mapping.get(symptom, []) else 0\n",
    "\n",
    "specialty_match_A = [match_specialty(sym, \"A\") for sym in symptoms]\n",
    "specialty_match_B = [match_specialty(sym, \"B\") for sym in symptoms]\n",
    "specialty_match_C = [match_specialty(sym, \"C\") for sym in symptoms]"
   ]
  },
  {
   "cell_type": "code",
   "execution_count": 42,
   "id": "0101c269",
   "metadata": {},
   "outputs": [],
   "source": [
    "df = pd.DataFrame({\n",
    "        \"age\": ages,\n",
    "        \"gender\": genders,\n",
    "        \"symptom_code\": symptoms,\n",
    "        \"urgency\": urgency,\n",
    "        \"time_of_day\": time_of_day,\n",
    "        \"wait_load_A\": wait_load_A,\n",
    "        \"wait_load_B\": wait_load_B,\n",
    "        \"wait_load_C\": wait_load_C,\n",
    "        \"specialty_match_A\": specialty_match_A,\n",
    "        \"specialty_match_B\": specialty_match_B,\n",
    "        \"specialty_match_C\": specialty_match_C,\n",
    "    })\n",
    "\n",
    "df.to_csv(\"../data/priank/unlabeled_patient_data.csv\", index=False)"
   ]
  },
  {
   "cell_type": "code",
   "execution_count": null,
   "id": "2b58df3f",
   "metadata": {},
   "outputs": [],
   "source": []
  }
 ],
 "metadata": {
  "kernelspec": {
   "display_name": "base",
   "language": "python",
   "name": "python3"
  },
  "language_info": {
   "codemirror_mode": {
    "name": "ipython",
    "version": 3
   },
   "file_extension": ".py",
   "mimetype": "text/x-python",
   "name": "python",
   "nbconvert_exporter": "python",
   "pygments_lexer": "ipython3",
   "version": "3.13.5"
  }
 },
 "nbformat": 4,
 "nbformat_minor": 5
}
