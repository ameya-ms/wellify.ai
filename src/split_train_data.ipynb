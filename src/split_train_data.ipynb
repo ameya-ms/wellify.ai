{
 "cells": [
  {
   "cell_type": "code",
   "execution_count": 13,
   "id": "d29d5ba7",
   "metadata": {},
   "outputs": [],
   "source": [
    "import pandas as pd\n",
    "from sklearn.model_selection import train_test_split"
   ]
  },
  {
   "cell_type": "code",
   "execution_count": 14,
   "id": "48b0e8ff",
   "metadata": {},
   "outputs": [],
   "source": [
    "def split_data(input_file=\"../data/priank/labeled_patient_data.tsv\"):\n",
    "    df = pd.read_csv(input_file)\n",
    "    train_df, test_df = train_test_split(df, test_size=0.2, random_state=42)\n",
    "    train_df.to_csv(\"../data/priank/data_train.csv\", index=False)\n",
    "    test_df.to_csv(\"../data/priank/data_test.csv\", index=False)"
   ]
  },
  {
   "cell_type": "code",
   "execution_count": 15,
   "id": "e09ba8bb",
   "metadata": {},
   "outputs": [],
   "source": [
    "if __name__ == \"__main__\":\n",
    "    split_data()"
   ]
  }
 ],
 "metadata": {
  "kernelspec": {
   "display_name": "base",
   "language": "python",
   "name": "python3"
  },
  "language_info": {
   "codemirror_mode": {
    "name": "ipython",
    "version": 3
   },
   "file_extension": ".py",
   "mimetype": "text/x-python",
   "name": "python",
   "nbconvert_exporter": "python",
   "pygments_lexer": "ipython3",
   "version": "3.13.5"
  }
 },
 "nbformat": 4,
 "nbformat_minor": 5
}
