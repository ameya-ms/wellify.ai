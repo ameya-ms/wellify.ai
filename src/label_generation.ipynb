{
 "cells": [
  {
   "cell_type": "code",
   "execution_count": 45,
   "id": "136fbedd",
   "metadata": {},
   "outputs": [],
   "source": [
    "import pandas as pd"
   ]
  },
  {
   "cell_type": "code",
   "execution_count": 46,
   "id": "b00d1868",
   "metadata": {},
   "outputs": [],
   "source": [
    "def assign_center(row):\n",
    "    # get current loads for each center\n",
    "    loads = {\n",
    "        \"A\": row[\"wait_load_A\"],\n",
    "        \"B\": row[\"wait_load_B\"],\n",
    "        \"C\": row[\"wait_load_C\"]\n",
    "    }\n",
    "\n",
    "    # if any center is a specialty match for this symptom, pick least loaded among them\n",
    "    matched_centers = []\n",
    "    if row[\"specialty_match_A\"]: matched_centers.append(\"A\")\n",
    "    if row[\"specialty_match_B\"]: matched_centers.append(\"B\")\n",
    "    if row[\"specialty_match_C\"]: matched_centers.append(\"C\")\n",
    "\n",
    "    if matched_centers:\n",
    "        # choose least loaded matched center\n",
    "        best = min(matched_centers, key=lambda c: loads[c])\n",
    "        return f\"Center_{best}\"\n",
    "    else:\n",
    "        # fallback: if no specialty match, pick least loaded center overall\n",
    "        return f\"Center_{min(loads, key=loads.get)}\"\n"
   ]
  },
  {
   "cell_type": "code",
   "execution_count": 47,
   "id": "be999bb2",
   "metadata": {},
   "outputs": [],
   "source": [
    "df = pd.read_csv(\"../data/priank/unlabeled_patient_data.csv\")\n",
    "\n",
    "\n",
    "df[\"assigned_center\"] = df.apply(assign_center, axis=1)\n",
    "df.to_csv(\"../data/priank/labeled_patient_data.tsv\", index=False)"
   ]
  },
  {
   "cell_type": "code",
   "execution_count": null,
   "id": "b009f58e",
   "metadata": {},
   "outputs": [],
   "source": []
  }
 ],
 "metadata": {
  "kernelspec": {
   "display_name": "base",
   "language": "python",
   "name": "python3"
  },
  "language_info": {
   "codemirror_mode": {
    "name": "ipython",
    "version": 3
   },
   "file_extension": ".py",
   "mimetype": "text/x-python",
   "name": "python",
   "nbconvert_exporter": "python",
   "pygments_lexer": "ipython3",
   "version": "3.13.5"
  }
 },
 "nbformat": 4,
 "nbformat_minor": 5
}
